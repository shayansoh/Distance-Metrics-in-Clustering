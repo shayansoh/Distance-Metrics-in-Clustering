{
 "cells": [
  {
   "cell_type": "markdown",
   "metadata": {},
   "source": [
    "# Distance Comparison in Clustering"
   ]
  },
  {
   "cell_type": "markdown",
   "metadata": {},
   "source": [
    "##### In this notebook, we will be looking into two types of different distance metrics used for clustering in unsupervised learning:\n",
    "- Euclidean\n",
    "- Cosine\n",
    "\n",
    "##### We will be using two clustering algorithms:\n",
    "- K-Means\n",
    "- Agglomerative Heirarchical Clustering\n",
    "\n",
    "We will be using a dataset from MATLAB called carbig.txt that includes various measurements of cars from 1970 to 1982."
   ]
  },
  {
   "cell_type": "code",
   "execution_count": 2,
   "metadata": {},
   "outputs": [],
   "source": [
    "# importing all the libraries used\n",
    "import pandas as pd\n",
    "import matplotlib.pyplot as plt\n",
    "import numpy as np\n",
    "import seaborn as sns\n",
    "sns.set()\n",
    "from sklearn.preprocessing import StandardScaler\n",
    "from sklearn.metrics import silhouette_samples, silhouette_score\n",
    "from scipy.cluster.hierarchy import dendrogram, linkage, cophenet\n",
    "from sklearn.cluster import AgglomerativeClustering\n",
    "from scipy.stats import mode\n",
    "from nltk.cluster.kmeans import KMeansClusterer\n",
    "from nltk.cluster.util import euclidean_distance, cosine_distance\n",
    "from sklearn.metrics import accuracy_score\n",
    "import matplotlib.cm as cm\n",
    "from scipy.spatial.distance import pdist"
   ]
  },
  {
   "cell_type": "markdown",
   "metadata": {},
   "source": [
    "##### Loading the data"
   ]
  },
  {
   "cell_type": "code",
   "execution_count": 6,
   "metadata": {},
   "outputs": [
    {
     "data": {
      "text/plain": [
       "((406, 6),\n",
       "    Acceleration  Cylinders  Displacement  Horsepower   MPG  Weight\n",
       " 0          12.0        8.0         307.0       130.0  18.0  3504.0\n",
       " 1          11.5        8.0         350.0       165.0  15.0  3693.0\n",
       " 2          11.0        8.0         318.0       150.0  18.0  3436.0\n",
       " 3          12.0        8.0         304.0       150.0  16.0  3433.0\n",
       " 4          10.5        8.0         302.0       140.0  17.0  3449.0)"
      ]
     },
     "execution_count": 6,
     "metadata": {},
     "output_type": "execute_result"
    }
   ],
   "source": [
    "df = pd.read_csv(\"carbig.txt\",comment=\"%\", sep=\"\\s+\", header=None)\n",
    "df.columns = [\"Acceleration\", \"Cylinders\", \"Displacement\", \"Horsepower\", \"MPG\", \"Weight\"]\n",
    "df.shape, df.head()"
   ]
  },
  {
   "cell_type": "markdown",
   "metadata": {},
   "source": [
    "After some data preprocessing and preliminary data exploratory, we will treat this dataset as unsupervised dataset (that is without labels) and try to cluster the 'Cylinders'"
   ]
  },
  {
   "cell_type": "markdown",
   "metadata": {},
   "source": [
    "##### Preprocessing and segmentation of data"
   ]
  },
  {
   "cell_type": "code",
   "execution_count": 5,
   "metadata": {},
   "outputs": [
    {
     "name": "stdout",
     "output_type": "stream",
     "text": [
      "[8. 4. 6. 3. 5.]\n"
     ]
    }
   ],
   "source": [
    "print(df['Cylinders'].unique())"
   ]
  },
  {
   "cell_type": "markdown",
   "metadata": {},
   "source": [
    "We have 5 cylinder types: 3,4,5,6,8 cylinders. To make things simpler, lets segment the into only three potential clusters:4,6,8 cylinders. we will drop the rest."
   ]
  },
  {
   "cell_type": "code",
   "execution_count": 7,
   "metadata": {},
   "outputs": [
    {
     "name": "stdout",
     "output_type": "stream",
     "text": [
      "[8. 4. 6.]\n"
     ]
    }
   ],
   "source": [
    "df = df[(df['Cylinders'] != 3) & (df['Cylinders'] != 5)]\n",
    "print(df['Cylinders'].unique())"
   ]
  },
  {
   "cell_type": "markdown",
   "metadata": {},
   "source": [
    "Now we are only left with the data required for the 3 clusters. Lets check for any missing values."
   ]
  },
  {
   "cell_type": "code",
   "execution_count": 9,
   "metadata": {},
   "outputs": [
    {
     "name": "stdout",
     "output_type": "stream",
     "text": [
      "MPG             8\n",
      "Horsepower      6\n",
      "Weight          0\n",
      "Displacement    0\n",
      "Cylinders       0\n",
      "Acceleration    0\n",
      "dtype: int64\n"
     ]
    }
   ],
   "source": [
    "print(df.isna().sum().sort_values(ascending=False))"
   ]
  },
  {
   "cell_type": "markdown",
   "metadata": {},
   "source": [
    "There are a few missing values in MPG and Horsepower. For the purpose of this exercise, we will remove the records with any missing values"
   ]
  },
  {
   "cell_type": "code",
   "execution_count": 10,
   "metadata": {},
   "outputs": [
    {
     "data": {
      "text/plain": [
       "(385, 6)"
      ]
     },
     "execution_count": 10,
     "metadata": {},
     "output_type": "execute_result"
    }
   ],
   "source": [
    "# removing na records\n",
    "df.dropna(how='any', inplace=True)\n",
    "df.shape"
   ]
  },
  {
   "cell_type": "markdown",
   "metadata": {},
   "source": [
    "Now our data should have no missing values. We have lost about 21 records after removing records with any NA values. Let's check the percentage of each class in this dataset"
   ]
  },
  {
   "cell_type": "code",
   "execution_count": 11,
   "metadata": {},
   "outputs": [
    {
     "name": "stdout",
     "output_type": "stream",
     "text": [
      "Percentage of 4 Cylinder Cars: 51.69%.\n",
      "Percentage of 6 Cylinder Cars: 21.56%.\n",
      "Percentage of 8 Cylinder Cars: 26.75%.\n"
     ]
    }
   ],
   "source": [
    "for i in [4,6,8]:\n",
    "    class_percent = np.sum(df['Cylinders'] == i)/len(df['Cylinders'])\n",
    "    print(\"Percentage of {} Cylinder Cars: {:.2%}.\".format(i,class_percent))   "
   ]
  }
 ],
 "metadata": {
  "kernelspec": {
   "display_name": "Python 3",
   "language": "python",
   "name": "python3"
  },
  "language_info": {
   "codemirror_mode": {
    "name": "ipython",
    "version": 3
   },
   "file_extension": ".py",
   "mimetype": "text/x-python",
   "name": "python",
   "nbconvert_exporter": "python",
   "pygments_lexer": "ipython3",
   "version": "3.8.3"
  }
 },
 "nbformat": 4,
 "nbformat_minor": 4
}
